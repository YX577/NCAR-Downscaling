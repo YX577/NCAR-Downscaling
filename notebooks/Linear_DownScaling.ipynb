{
 "cells": [
  {
   "cell_type": "markdown",
   "metadata": {},
   "source": [
    "# Linear Downscaling for Precipitation\n",
    "\n",
    "#### Katrina Wheelan, 8.11.19\n",
    "\n",
    "This notebook uses various atmospheric predictors to predict the probabilty of precipitation (linearly or logistically) and then another linear model to predict the intensity of precipitation. There is an option to add a stochastic component to the linear model.\n",
    "\n",
    "Steps: \n",
    "\n",
    "- Import data\n",
    "- standardize\n",
    "- linear (LASSO) and logistic regression for predicting probability of precipitation\n",
    "- LASSO for intensity\n",
    "- stochastic piece --- Gaussian or Gamma distribution\n",
    "- save predictions"
   ]
  },
  {
   "cell_type": "markdown",
   "metadata": {},
   "source": [
    "### Importing the necessary packages"
   ]
  },
  {
   "cell_type": "code",
   "execution_count": 1,
   "metadata": {},
   "outputs": [],
   "source": [
    "import warnings\n",
    "warnings.filterwarnings('ignore')\n",
    "import xarray as xr\n",
    "import sklearn\n",
    "import pandas as pd\n",
    "import numpy as np\n",
    "from sklearn.linear_model import LogisticRegression, Lasso, LinearRegression\n",
    "from sklearn.model_selection import ShuffleSplit, cross_val_score, GridSearchCV\n",
    "from sklearn.metrics import log_loss\n",
    "import matplotlib.pyplot as plt\n",
    "import os"
   ]
  },
  {
   "cell_type": "markdown",
   "metadata": {},
   "source": [
    "## Input Coordinates"
   ]
  },
  {
   "cell_type": "code",
   "execution_count": 2,
   "metadata": {},
   "outputs": [],
   "source": [
    "#Adjust these if needed; takes a single cell\n",
    "lat = 36.608\n",
    "lon = -97.488"
   ]
  },
  {
   "cell_type": "markdown",
   "metadata": {},
   "source": [
    "## Prepping the Data for analysis\n",
    "\n",
    "Run the code below or skip to the cell with the stars if you want to use pre-prepped data for (36.608, -97.488)"
   ]
  },
  {
   "cell_type": "markdown",
   "metadata": {},
   "source": [
    "### Importing the predictors"
   ]
  },
  {
   "cell_type": "code",
   "execution_count": 3,
   "metadata": {},
   "outputs": [],
   "source": [
    "ROOT = '/glade/p/cisl/risc/rmccrary/ERA-I/NAmerica/' #where the files are saved\n",
    "EXT = '_19790101-20061231_dayavg.nc' #date range at the end of the file\n",
    "SERIES = 'ERAI_NAmerica'\n",
    "\n",
    "#The variables to use\n",
    "surface_predictors = ['mslp', 'uas', 'vas', 'ps']\n",
    "#Each of these predictors is taken at each pressure level below\n",
    "other_predictors = ['Q', 'RH', 'U', 'V', 'Z', 'Vort', 'Div']\n",
    "levels = [500, 700, 850] #pressure levels\n",
    "\n",
    "#Surface predictors\n",
    "for var in surface_predictors:\n",
    "    file = ROOT + var + '_' + SERIES + '_surf' + EXT\n",
    "    if var == 'mslp': predictors = xr.open_dataset(file)[var]\n",
    "    predictors = xr.merge([predictors, xr.open_dataset(file)[var]])\n",
    "\n",
    "#Other predictors (at multiple pressure levels)\n",
    "for var in other_predictors:\n",
    "    for level in levels:\n",
    "        file = ROOT + var + '_' + SERIES + '_p' + str(level) + EXT\n",
    "        predictors = xr.merge([predictors, xr.open_dataset(file).rename({var: var + '_p' + str(level)})])"
   ]
  },
  {
   "cell_type": "markdown",
   "metadata": {},
   "source": [
    "### Standardizing the input variables"
   ]
  },
  {
   "cell_type": "code",
   "execution_count": 4,
   "metadata": {},
   "outputs": [],
   "source": [
    "#convert to pandas dataframe in order to use scikit-learn later\n",
    "\n",
    "def standardize(variable):\n",
    "    \"\"\"Standardizing a variable (converting to z-scores)\n",
    "    Takes as input an Xarray dataset; outputs a standardized Xarray object\"\"\"\n",
    "    return (variable - np.mean(variable)) / np.std(variable)\n",
    "\n",
    "for col in [i for i in predictors.keys()]:\n",
    "    #standardize each predictor\n",
    "    predictors[col] = standardize(predictors[col])"
   ]
  },
  {
   "cell_type": "markdown",
   "metadata": {},
   "source": [
    "### Get observations and training data"
   ]
  },
  {
   "cell_type": "code",
   "execution_count": 5,
   "metadata": {},
   "outputs": [],
   "source": [
    "#import observations\n",
    "obs = xr.open_mfdataset(\"/glade/p/ral/hap/common_data/Maurer_met_full/pr\" + \n",
    "                \"/nldas_met_update.obs.daily.pr.****.nc\").sel(time = slice('1979-01-01','2006-12-31'))\n",
    "\n",
    "#getting training data \n",
    "X_all = predictors.sel(lat = lat, lon = lon, method = 'nearest')\n",
    "Y_all = obs.sel(latitude = lat, longitude = lon, method = 'nearest')"
   ]
  },
  {
   "cell_type": "markdown",
   "metadata": {},
   "source": [
    "### Add a column of ones for constants"
   ]
  },
  {
   "cell_type": "code",
   "execution_count": 6,
   "metadata": {},
   "outputs": [],
   "source": [
    "#adding a column of ones for a constant (since the obs aren't normalized they aren't centered around zero)\n",
    "all_preds = [key for key in X_all.keys()] #the names of the predictors\n",
    "X_all['constant'] = 1 + 0*X_all[all_preds[0]] #added the last part so it's dependent on lat, lon, and time\n",
    "if not 'constant' in all_preds: all_preds += ['constant'] #adding \"constant\" to the list of variable names"
   ]
  },
  {
   "cell_type": "markdown",
   "metadata": {},
   "source": [
    "### Separate Training and Testing Data\n",
    "\n",
    "Right now I have even years for training and odd years for testing"
   ]
  },
  {
   "cell_type": "code",
   "execution_count": 7,
   "metadata": {},
   "outputs": [],
   "source": [
    "def evenOdd(ds):\n",
    "    \"\"\"Input: xarray dataset\n",
    "        Output: even and odd year datasets as xarray objects\"\"\"\n",
    "    ds['time-copy'] = ds['time']\n",
    "    #classify years as even or odd\n",
    "    ds['time'] =  pd.DatetimeIndex(ds.time.values).year%2 == 0\n",
    "    even, odd = ds.sel(time = True), ds.sel(time = False)\n",
    "    even['time'], odd['time'] = even['time-copy'],odd['time-copy']\n",
    "    return even.drop('time-copy'), odd.drop('time-copy')\n",
    "\n",
    "X_train, X_test = evenOdd(X_all)\n",
    "Y_train, Y_test = evenOdd(Y_all)"
   ]
  },
  {
   "cell_type": "code",
   "execution_count": 8,
   "metadata": {},
   "outputs": [],
   "source": [
    "#saving data\n",
    "#for data in ['X_train', 'Y_train', 'X_test', 'Y_test']:\n",
    "#    eval(data).to_netcdf('/glade/work/kwheelan/linear_data/'+ data + '.nc')"
   ]
  },
  {
   "cell_type": "markdown",
   "metadata": {},
   "source": [
    "## ** Or skip everything above and run this: **\n",
    "(Note that this data is for lat = 36.608, lon = -97.488)"
   ]
  },
  {
   "cell_type": "code",
   "execution_count": 2,
   "metadata": {},
   "outputs": [],
   "source": [
    "X_train = xr.open_dataset('/glade/work/kwheelan/linear_data/X_train.nc')\n",
    "Y_train = xr.open_dataset('/glade/work/kwheelan/linear_data/Y_train.nc')\n",
    "X_test = xr.open_dataset('/glade/work/kwheelan/linear_data/X_test.nc')\n",
    "Y_test = xr.open_dataset('/glade/work/kwheelan/linear_data/Y_test.nc')"
   ]
  },
  {
   "cell_type": "markdown",
   "metadata": {},
   "source": [
    "### Correlation matrix for all the predictors\n",
    "\n",
    "This shows how closely related predictors are to each other.\n",
    "\n",
    "(I can add a scatterplot matrix here if that would be useful.)"
   ]
  },
  {
   "cell_type": "code",
   "execution_count": 9,
   "metadata": {},
   "outputs": [
    {
     "name": "stdout",
     "output_type": "stream",
     "text": [
      "               mslp       uas       vas        ps    Q_p500    Q_p700  \\\n",
      "mslp       1.000000 -0.182465 -0.385122  0.988354 -0.269720 -0.343312   \n",
      "uas       -0.182465  1.000000  0.087394 -0.210307 -0.200212 -0.228550   \n",
      "vas       -0.385122  0.087394  1.000000 -0.334453  0.199315  0.233922   \n",
      "ps         0.988354 -0.210307 -0.334453  1.000000 -0.210775 -0.261064   \n",
      "Q_p500    -0.269720 -0.200212  0.199315 -0.210775  1.000000  0.739396   \n",
      "Q_p700    -0.343312 -0.228550  0.233922 -0.261064  0.739396  1.000000   \n",
      "Q_p850    -0.452946 -0.198233  0.378243 -0.354678  0.622242  0.825385   \n",
      "RH_p500   -0.035255 -0.172036 -0.125707 -0.069896  0.620047  0.241647   \n",
      "RH_p700   -0.048102 -0.236084 -0.181074 -0.045101  0.460465  0.680044   \n",
      "RH_p850   -0.090649 -0.273871 -0.103419 -0.088206  0.307268  0.435864   \n",
      "U_p500     0.095114  0.231507 -0.246542  0.007665 -0.282578 -0.417137   \n",
      "U_p700    -0.082818  0.394658 -0.017743 -0.159318 -0.222726 -0.303720   \n",
      "U_p850    -0.282304  0.753108  0.470431 -0.308492 -0.123511 -0.169436   \n",
      "V_p500    -0.361390 -0.048535  0.264729 -0.387234  0.173454  0.157115   \n",
      "V_p700    -0.430953 -0.123753  0.552184 -0.429976  0.278557  0.285417   \n",
      "V_p850    -0.435999 -0.114709  0.896242 -0.399833  0.284758  0.323508   \n",
      "Z_p500    -0.177459 -0.232736  0.416161 -0.040774  0.512843  0.661346   \n",
      "Z_p700     0.052708 -0.249026  0.335912  0.194318  0.433968  0.579864   \n",
      "Z_p850     0.577987 -0.269412  0.045475  0.692307  0.185719  0.271197   \n",
      "Vort_p500  0.012746  0.223468 -0.339645 -0.050506 -0.189164 -0.201835   \n",
      "Vort_p700 -0.147693  0.179230 -0.285986 -0.214579 -0.107249 -0.172833   \n",
      "Vort_p850 -0.358653  0.181867 -0.207197 -0.417233  0.019341 -0.004888   \n",
      "Div_p500  -0.031184 -0.066075  0.096687 -0.022879 -0.005107  0.023719   \n",
      "Div_p700  -0.082849  0.128488  0.059705 -0.093873 -0.087678 -0.021951   \n",
      "Div_p850   0.161495  0.031556  0.158695  0.192702 -0.117466 -0.136453   \n",
      "\n",
      "             Q_p850   RH_p500   RH_p700   RH_p850  ...    V_p850    Z_p500  \\\n",
      "mslp      -0.452946 -0.035255 -0.048102 -0.090649  ... -0.435999 -0.177459   \n",
      "uas       -0.198233 -0.172036 -0.236084 -0.273871  ... -0.114709 -0.232736   \n",
      "vas        0.378243 -0.125707 -0.181074 -0.103419  ...  0.896242  0.416161   \n",
      "ps        -0.354678 -0.069896 -0.045101 -0.088206  ... -0.399833 -0.040774   \n",
      "Q_p500     0.622242  0.620047  0.460465  0.307268  ...  0.284758  0.512843   \n",
      "Q_p700     0.825385  0.241647  0.680044  0.435864  ...  0.323508  0.661346   \n",
      "Q_p850     1.000000  0.038813  0.350125  0.532504  ...  0.435274  0.766544   \n",
      "RH_p500    0.038813  1.000000  0.530742  0.319578  ...  0.018788 -0.213138   \n",
      "RH_p700    0.350125  0.530742  1.000000  0.603502  ... -0.017088  0.024624   \n",
      "RH_p850    0.532504  0.319578  0.603502  1.000000  ...  0.092466  0.055255   \n",
      "U_p500    -0.524573  0.059630 -0.124755 -0.192632  ... -0.180464 -0.566770   \n",
      "U_p700    -0.393156  0.011795 -0.141608 -0.201575  ...  0.019263 -0.462186   \n",
      "U_p850    -0.120251 -0.157786 -0.309081 -0.317745  ...  0.322978 -0.130985   \n",
      "V_p500     0.175928  0.196404  0.169723  0.262145  ...  0.525488 -0.035980   \n",
      "V_p700     0.334694  0.154555  0.129629  0.227299  ...  0.803543  0.175382   \n",
      "V_p850     0.435274  0.018788 -0.017088  0.092466  ...  1.000000  0.381134   \n",
      "Z_p500     0.766544 -0.213138  0.024624  0.055255  ...  0.381134  1.000000   \n",
      "Z_p700     0.667519 -0.223068  0.012552  0.008162  ...  0.270471  0.961395   \n",
      "Z_p850     0.288374 -0.202987 -0.002174 -0.044529  ... -0.057747  0.661837   \n",
      "Vort_p500 -0.243841  0.149031  0.189391  0.207530  ... -0.325169 -0.523303   \n",
      "Vort_p700 -0.154190  0.160033  0.121950  0.288966  ... -0.196882 -0.442234   \n",
      "Vort_p850 -0.015239  0.182570  0.128597  0.231723  ... -0.025414 -0.298110   \n",
      "Div_p500   0.023774 -0.055069 -0.039278 -0.055326  ...  0.100681  0.069496   \n",
      "Div_p700  -0.010754 -0.106610 -0.060559 -0.040842  ...  0.072957 -0.058681   \n",
      "Div_p850  -0.022217 -0.243533 -0.267296 -0.200265  ... -0.030031  0.143897   \n",
      "\n",
      "             Z_p700    Z_p850  Vort_p500  Vort_p700  Vort_p850  Div_p500  \\\n",
      "mslp       0.052708  0.577987   0.012746  -0.147693  -0.358653 -0.031184   \n",
      "uas       -0.249026 -0.269412   0.223468   0.179230   0.181867 -0.066075   \n",
      "vas        0.335912  0.045475  -0.339645  -0.285986  -0.207197  0.096687   \n",
      "ps         0.194318  0.692307  -0.050506  -0.214579  -0.417233 -0.022879   \n",
      "Q_p500     0.433968  0.185719  -0.189164  -0.107249   0.019341 -0.005107   \n",
      "Q_p700     0.579864  0.271197  -0.201835  -0.172833  -0.004888  0.023719   \n",
      "Q_p850     0.667519  0.288374  -0.243841  -0.154190  -0.015239  0.023774   \n",
      "RH_p500   -0.223068 -0.202987   0.149031   0.160033   0.182570 -0.055069   \n",
      "RH_p700    0.012552 -0.002174   0.189391   0.121950   0.128597 -0.039278   \n",
      "RH_p850    0.008162 -0.044529   0.207530   0.288966   0.231723 -0.055326   \n",
      "U_p500    -0.574749 -0.434973   0.177221   0.219988   0.256484 -0.001330   \n",
      "U_p700    -0.504606 -0.480768   0.093680   0.168282   0.305370  0.044638   \n",
      "U_p850    -0.183138 -0.309793  -0.013501   0.014093   0.154385  0.038973   \n",
      "V_p500    -0.157004 -0.358715   0.048849   0.206075   0.318017 -0.070397   \n",
      "V_p700     0.043662 -0.246813  -0.139874   0.042517   0.218180  0.028648   \n",
      "V_p850     0.270471 -0.057747  -0.325169  -0.196882  -0.025414  0.100681   \n",
      "Z_p500     0.961395  0.661837  -0.523303  -0.442234  -0.298110  0.069496   \n",
      "Z_p700     1.000000  0.831002  -0.502768  -0.507987  -0.404916  0.059945   \n",
      "Z_p850     0.831002  1.000000  -0.360688  -0.480040  -0.546866  0.024013   \n",
      "Vort_p500 -0.502768 -0.360688   1.000000   0.654361   0.361396 -0.145231   \n",
      "Vort_p700 -0.507987 -0.480040   0.654361   1.000000   0.674696 -0.045069   \n",
      "Vort_p850 -0.404916 -0.546866   0.361396   0.674696   1.000000  0.005318   \n",
      "Div_p500   0.059945  0.024013  -0.145231  -0.045069   0.005318  1.000000   \n",
      "Div_p700  -0.063940 -0.105073   0.034249  -0.014026   0.245355 -0.213849   \n",
      "Div_p850   0.202177  0.277418  -0.094969  -0.243756  -0.457159 -0.157648   \n",
      "\n",
      "           Div_p700  Div_p850  \n",
      "mslp      -0.082849  0.161495  \n",
      "uas        0.128488  0.031556  \n",
      "vas        0.059705  0.158695  \n",
      "ps        -0.093873  0.192702  \n",
      "Q_p500    -0.087678 -0.117466  \n",
      "Q_p700    -0.021951 -0.136453  \n",
      "Q_p850    -0.010754 -0.022217  \n",
      "RH_p500   -0.106610 -0.243533  \n",
      "RH_p700   -0.060559 -0.267296  \n",
      "RH_p850   -0.040842 -0.200265  \n",
      "U_p500     0.053379 -0.168108  \n",
      "U_p700     0.128041 -0.192057  \n",
      "U_p850     0.202660  0.003408  \n",
      "V_p500    -0.045060 -0.269662  \n",
      "V_p700     0.016226 -0.243632  \n",
      "V_p850     0.072957 -0.030031  \n",
      "Z_p500    -0.058681  0.143897  \n",
      "Z_p700    -0.063940  0.202177  \n",
      "Z_p850    -0.105073  0.277418  \n",
      "Vort_p500  0.034249 -0.094969  \n",
      "Vort_p700 -0.014026 -0.243756  \n",
      "Vort_p850  0.245355 -0.457159  \n",
      "Div_p500  -0.213849 -0.157648  \n",
      "Div_p700   1.000000 -0.356961  \n",
      "Div_p850  -0.356961  1.000000  \n",
      "\n",
      "[25 rows x 25 columns]\n"
     ]
    }
   ],
   "source": [
    "ds_cor = X_train.to_dataframe().drop(['lat','lon', 'constant'], axis=1).corr()\n",
    "print(ds_cor)"
   ]
  },
  {
   "cell_type": "markdown",
   "metadata": {},
   "source": [
    "### Variance inflatation factors\n",
    "These numbers show the effect that each predictor has on the coefficients of a regression equation. A high VIF suggests that the predictor is highly correlated with other predictors. Generally a VIF of more than 10 is concerning (but also all the VIFs will change if you take some variables out.)"
   ]
  },
  {
   "cell_type": "code",
   "execution_count": 10,
   "metadata": {},
   "outputs": [
    {
     "name": "stdout",
     "output_type": "stream",
     "text": [
      "mslp: 1272.3888308244402\n",
      "uas: 5.294920509757929\n",
      "vas: 18.53673644737458\n",
      "ps: 2010.0411977849826\n",
      "Q_p500: 10.56378119389814\n",
      "Q_p700: 24.620975031629595\n",
      "Q_p850: 25.15139755932765\n",
      "RH_p500: 7.526384823763034\n",
      "RH_p700: 12.245768679151919\n",
      "RH_p850: 8.387543600705387\n",
      "U_p500: 6.341368533646352\n",
      "U_p700: 9.577965615215184\n",
      "U_p850: 10.674636039846776\n",
      "V_p500: 7.498147986705409\n",
      "V_p700: 16.74610495477544\n",
      "V_p850: 29.67108882341136\n",
      "Z_p500: 132.43015371724653\n",
      "Z_p700: 354.68492145738026\n",
      "Z_p850: 342.2164018044728\n",
      "Vort_p500: 2.6334249977190645\n",
      "Vort_p700: 3.9801473888379673\n",
      "Vort_p850: 3.7028721932533757\n",
      "Div_p500: 1.314891671491612\n",
      "Div_p700: 1.7357972814131764\n",
      "Div_p850: 1.9619752607415133\n"
     ]
    }
   ],
   "source": [
    "vif = pd.DataFrame(np.linalg.inv(ds_cor.values), index = ds_cor.index, columns=ds_cor.columns)\n",
    "for i in range(vif.shape[0]):\n",
    "    #printing diagonal elements\n",
    "    print(vif.columns[i] + \": \" +str(vif.values[i,i]))"
   ]
  },
  {
   "cell_type": "markdown",
   "metadata": {},
   "source": [
    "I can add added variable plots if that would be helpful to see how closely the variables are related."
   ]
  },
  {
   "cell_type": "markdown",
   "metadata": {},
   "source": [
    "# Predicting the probability of precipitation\n",
    "\n",
    "I do this 4 ways: \n",
    "- Regular linear prediction with all predictors\n",
    "- Regular linear prediction with a human selection of predictors\n",
    "- LASSO linear prediction\n",
    "- Logistic prediction"
   ]
  },
  {
   "cell_type": "markdown",
   "metadata": {},
   "source": [
    "### 1. Regular linear prediction with all predictors\n",
    "\n",
    "(I think this is the way the paper does it, but with manual predictor choice?)\n",
    "\n",
    "Note that the matrix equation for the coefficients of multiple linear regression is $b =(X'X)^{-1}(X'y)$"
   ]
  },
  {
   "cell_type": "code",
   "execution_count": 11,
   "metadata": {},
   "outputs": [],
   "source": [
    "y = Y_train.pr.values > 0 #obs values\n",
    "all_preds = [key for key in X_train.keys()] #the names of the predictors\n",
    "\n",
    "def fit_linear_model(X, y, keys=None):\n",
    "    \"\"\"Use linear algebra to compute the betas for a multiple linear regression.\n",
    "       Input: X (predictors) and y (obs) as xarray objects\n",
    "       Output: a pandas dataframe with the betas (estimated coefficients) for each predictor\"\"\"\n",
    "    if not type(X) is np.matrixlib.defmatrix.matrix:\n",
    "        keys = [key for key in X.keys()]\n",
    "        X = np.matrix([X[key].values for key in keys]).transpose() #X matrix; rows are days, columns are variables\n",
    "    XT = X.transpose() #X transpose \n",
    "    betas = np.matmul(np.matmul(np.linalg.inv(np.matmul(XT,X)), XT), y)\n",
    "    b = pd.DataFrame(index = range(1))\n",
    "    for i in range(len(keys)):\n",
    "        b[keys[i]] = betas[0,i] #assigning names to each coefficient\n",
    "    return b\n",
    "\n",
    "betas_all_linear = fit_linear_model(X_train, y).rename(index = {0: 'coefficient'}).transpose() #calculate coefficients for training data\n",
    "# uncommnent the line below to print out all the coefficients\n",
    "#betas_all_linear"
   ]
  },
  {
   "cell_type": "markdown",
   "metadata": {},
   "source": [
    "### 2. Regular linear prediction with some subset of the predictors\n",
    "\n",
    "The really high coefficients from the linear regression above might be a symptom of severe multicollinearity, so here we can do the same process but with fewer predictors. I've somewhat arbitrarily taken out the predictors with high VIFs from above, but it should be easy to take out any other set of predictors instead"
   ]
  },
  {
   "cell_type": "code",
   "execution_count": 12,
   "metadata": {},
   "outputs": [],
   "source": [
    "#The predictors to include in a linear regression\n",
    "#comment out any predictors to be dropped\n",
    "preds_to_keep = [\n",
    " #'mslp',\n",
    " 'uas',\n",
    " 'vas',\n",
    " #'ps',\n",
    " 'Q_p500',\n",
    " #'Q_p700',\n",
    " #'Q_p850',\n",
    " 'RH_p500',\n",
    " #'RH_p700',\n",
    " #'RH_p850',\n",
    " 'U_p500',\n",
    " #'U_p700',\n",
    " #'U_p850',\n",
    " 'V_p500',\n",
    " #'V_p700',\n",
    " #'V_p850',\n",
    " #'Z_p500',\n",
    " #'Z_p700',\n",
    " #'Z_p850',\n",
    " #'Vort_p500',\n",
    " #'Vort_p700',\n",
    " #'Vort_p850',\n",
    " 'Div_p500',\n",
    " #'Div_p700',\n",
    " #'Div_p850',\n",
    " 'constant']\n",
    "\n",
    "#Will drop any variables not \n",
    "preds_to_drop = [x for x in all_preds if not x in preds_to_keep]\n",
    "#calculate coefficients for training data\n",
    "betas_handselect_linear = fit_linear_model(X_train.drop(preds_to_drop), y).rename(index = {0: 'coefficient'}).transpose()\n",
    "\n",
    "# uncommnent the line below to print out all the coefficients\n",
    "#betas_handselect_linear"
   ]
  },
  {
   "cell_type": "markdown",
   "metadata": {},
   "source": [
    "### 3. LASSO Regression\n",
    "\n",
    "(Using SciKit-Learn here)"
   ]
  },
  {
   "cell_type": "code",
   "execution_count": 13,
   "metadata": {},
   "outputs": [],
   "source": [
    "#The LASSO regressor object from sklearn\n",
    "#It uses BIC to optimize the alpha (L1 regulator)\n",
    "reg = sklearn.linear_model.LassoLarsIC(criterion = 'bic')\n",
    "\n",
    "X = np.matrix([X_train[key].values for key in all_preds]).transpose() #make xarray into passable numpy object\n",
    "\n",
    "reg.fit(X, y)\n",
    "\n",
    "lasso_preds = [all_preds[i] for i in range(len(reg.coef_)) if reg.coef_[i] != 0] + ['constant']\n",
    "betas_LASSO = pd.DataFrame(index = lasso_preds, data = [coef for coef in reg.coef_ if coef !=0] + [reg.intercept_], columns = ['coefficient'])\n",
    "\n",
    "lasso_dropped = [x for x in all_preds if (not x in lasso_preds)]\n",
    "\n",
    "#uncomment below to print coefficients\n",
    "#betas_LASSO"
   ]
  },
  {
   "cell_type": "markdown",
   "metadata": {},
   "source": [
    "### 4. Logistic Regression\n",
    "(There's no random seed parameter for the grid search, so the output for the optimal 'C' might be different.)"
   ]
  },
  {
   "cell_type": "code",
   "execution_count": 14,
   "metadata": {},
   "outputs": [],
   "source": [
    "glm = LogisticRegression(penalty = 'l1', C=1) #L1 regularization is LASSO\n",
    "\n",
    "#parameter grid search to optimize \"C\"\n",
    "param_grid = [\n",
    "    {'C': [5000, 1000, 500, 100, 10, 1]},\n",
    "]\n",
    "\n",
    "#Using the AUC (area under the curve) of the ROC (receiving operator characteristic curve) to score the C parameters\n",
    "grid_search = GridSearchCV(glm, param_grid, cv=5, scoring = 'roc_auc')\n",
    "\n",
    "grid_search.fit(X, y)\n",
    "\n",
    "C = grid_search.best_params_['C'] #get best 'C' value for l1 penalty"
   ]
  },
  {
   "cell_type": "code",
   "execution_count": 15,
   "metadata": {},
   "outputs": [],
   "source": [
    "glm.set_params(C = C)\n",
    "glm.fit(X, y) #fit logistic equation\n",
    "\n",
    "logit_preds = [all_preds[i] for i in range(len(glm.coef_[0])) if glm.coef_[0][i] != 0]\n",
    "betas_logit = pd.DataFrame(index = logit_preds, data = [coef for coef in glm.coef_[0] if coef !=0], columns = ['coefficient'])\n",
    "\n",
    "#uncomment below to print coefficients\n",
    "#betas_logit"
   ]
  },
  {
   "cell_type": "markdown",
   "metadata": {},
   "source": [
    "## Testing the Probability Models\n",
    "\n",
    "Here we look at the odd years to see how well this method preformed for our given point.\n",
    "\n",
    "RMSE isn't that meaningful for binary prediction (yes/no precip), so I've included log loss, which is the same thing as cross-entropy. This is a measure of how well the regression is able to classify yes/no correctly. A lower log loss is better."
   ]
  },
  {
   "cell_type": "code",
   "execution_count": 16,
   "metadata": {},
   "outputs": [
    {
     "data": {
      "text/html": [
       "<div>\n",
       "<style scoped>\n",
       "    .dataframe tbody tr th:only-of-type {\n",
       "        vertical-align: middle;\n",
       "    }\n",
       "\n",
       "    .dataframe tbody tr th {\n",
       "        vertical-align: top;\n",
       "    }\n",
       "\n",
       "    .dataframe thead th {\n",
       "        text-align: right;\n",
       "    }\n",
       "</style>\n",
       "<table border=\"1\" class=\"dataframe\">\n",
       "  <thead>\n",
       "    <tr style=\"text-align: right;\">\n",
       "      <th></th>\n",
       "      <th>n_predictors</th>\n",
       "      <th>RMSE</th>\n",
       "      <th>log_loss</th>\n",
       "    </tr>\n",
       "  </thead>\n",
       "  <tbody>\n",
       "    <tr>\n",
       "      <th>all predictors</th>\n",
       "      <td>26</td>\n",
       "      <td>0.383194</td>\n",
       "      <td>0.535866</td>\n",
       "    </tr>\n",
       "    <tr>\n",
       "      <th>handpicked predictors</th>\n",
       "      <td>8</td>\n",
       "      <td>0.394102</td>\n",
       "      <td>0.525345</td>\n",
       "    </tr>\n",
       "    <tr>\n",
       "      <th>LASSO</th>\n",
       "      <td>7</td>\n",
       "      <td>0.388469</td>\n",
       "      <td>0.509328</td>\n",
       "    </tr>\n",
       "    <tr>\n",
       "      <th>logistic</th>\n",
       "      <td>26</td>\n",
       "      <td>0.490286</td>\n",
       "      <td>0.441087</td>\n",
       "    </tr>\n",
       "  </tbody>\n",
       "</table>\n",
       "</div>"
      ],
      "text/plain": [
       "                      n_predictors      RMSE  log_loss\n",
       "all predictors                  26  0.383194  0.535866\n",
       "handpicked predictors            8  0.394102  0.525345\n",
       "LASSO                            7  0.388469  0.509328\n",
       "logistic                        26  0.490286  0.441087"
      ]
     },
     "execution_count": 16,
     "metadata": {},
     "output_type": "execute_result"
    }
   ],
   "source": [
    "def predict_linear(X, betas):\n",
    "    \"\"\"Input: X, an xarray object containing predictors (obs as rows, predictors as columnns), \n",
    "              betas, a numpy matrix of coefficients\n",
    "       Output: Predictions in a numpy matrix; each row is a separate day\"\"\"\n",
    "    keys = [key for key in X.keys()]\n",
    "    X = np.matrix([X[key].values for key in keys]).transpose()\n",
    "    return np.matmul(X, betas)\n",
    "\n",
    "def RMSE(preds, obs):\n",
    "    \"\"\"Input: numpy matrix of predictions, numpy matrix of true values (for both, each row is a day)\n",
    "       Output: Root mean squared error, as a float\"\"\"\n",
    "    return np.sqrt(np.square(preds - obs.reshape(obs.shape[0],1)).mean())\n",
    "\n",
    "def logLoss(preds, obs):\n",
    "    \"\"\" Input: numpy matrix of predictions\n",
    "               numpy matrix of true values\n",
    "        Output: log-loss (cross-entropy) value\"\"\"\n",
    "    probas = [float(pred) for pred in preds]\n",
    "    for i in range(len(probas)):\n",
    "        if probas[i]>1: probas[i] = 1\n",
    "        if probas[i]<0: probas[i] = 0\n",
    "    probas = np.array([ [1-pred, pred] for pred in probas])\n",
    "    return log_loss(obs, probas)\n",
    " \n",
    "models = ['all predictors', 'handpicked predictors', 'LASSO', 'logistic'] #names of each probability model\n",
    "inputData = ['X_test', 'X_test.drop(preds_to_drop)', 'X_test.drop(lasso_dropped)', 'X_test'] #the input data for each model\n",
    "#the names of the dataframes where the coefficents are stored\n",
    "betas = ['betas_all_linear', 'betas_handselect_linear', 'betas_LASSO', 'betas_logit'] \n",
    "\n",
    "#creating a dataframe to save the model metrics\n",
    "probability_model_metrics = pd.DataFrame(index = models, columns = ['n_predictors','RMSE', 'log_loss'])\n",
    "\n",
    "for model,inputData,betaList,i in zip(models, inputData, betas, range(len(models))):\n",
    "    #evaluating the various goodness-of-fit metrics for each model\n",
    "    X_test_matrix = np.matrix([X_test[key].values for key in X_test.keys()]).transpose()\n",
    "    if model == 'logistic': preds = [pred[1] for pred in glm.predict_proba(X_test_matrix) ]\n",
    "    else:\n",
    "        preds = predict_linear(eval(inputData), eval(betaList)) #predict values for comparison to obs \n",
    "    k = eval(betaList).shape[0] #number of predictors\n",
    "    probability_model_metrics['n_predictors'][i] = k\n",
    "    probability_model_metrics['RMSE'][i] = RMSE(preds, Y_test.pr.values>0)\n",
    "    probability_model_metrics['log_loss'][i] = logLoss(preds, Y_test.pr.values > 0)\n",
    "\n",
    "#Print the table out\n",
    "probability_model_metrics\n"
   ]
  },
  {
   "cell_type": "markdown",
   "metadata": {},
   "source": [
    "## Threshold for precipitation cut-off\n",
    "\n",
    "I've coded a static threshold for precipitation. Essentially if we predict a probability of precipitation above our threshold (which I've defaulted at 50%), there is some non-zero precipitation intensity. If the probability of precipitation is below our static threshold, we predict zero precipitation."
   ]
  },
  {
   "cell_type": "code",
   "execution_count": 17,
   "metadata": {},
   "outputs": [],
   "source": [
    "thresh = 0.5 #the probability at which we say that there is nonzero precip\n",
    "\n",
    "#prepping the intensity data.\n",
    "#We want to train our intensity models using only the cells/days where there is non-zero precipitation\n",
    "y_train_nonzero = Y_train.pr.values[Y_train.pr.values>0]\n",
    "X = np.matrix([X_train[key].values for key in X_train.keys()]).transpose()\n",
    "x_train_nonzero = X[Y_train.pr.values>0,]\n",
    "\n",
    "#doing the same thing for the testing subset\n",
    "y_test_nonzero = Y_test.pr.values[Y_test.pr.values>0]\n",
    "X_test_matrix = np.matrix([X_test[key].values for key in X_test.keys()]).transpose()\n",
    "x_test_nonzero = X_test_matrix[Y_test.pr.values>0,]"
   ]
  },
  {
   "cell_type": "markdown",
   "metadata": {},
   "source": [
    "# Predicting Intensity\n",
    "\n",
    "3 methods for predicting intensity:\n",
    "- Regular linear prediction with all predictors\n",
    "- Regular linear prediction with a human selection of predictors\n",
    "- LASSO linear prediction"
   ]
  },
  {
   "cell_type": "markdown",
   "metadata": {},
   "source": [
    "### 1. Regular linear prediction with all predictors"
   ]
  },
  {
   "cell_type": "code",
   "execution_count": 18,
   "metadata": {},
   "outputs": [],
   "source": [
    "betas_all_linear_intensity = fit_linear_model(x_train_nonzero, y_train_nonzero, \n",
    "                            keys=all_preds).rename(index = {0: 'coefficient'}).transpose()\n",
    "\n",
    "# uncommnent the line below to print out all the coefficients\n",
    "#betas_all_linear_intensity"
   ]
  },
  {
   "cell_type": "markdown",
   "metadata": {},
   "source": [
    "### 2. Regular linear prediction with some subset of the predictors\n",
    "\n",
    "Just like in the classification, I just arbitrarily taken out predictors. Comment out any predictors to omit them from the regression."
   ]
  },
  {
   "cell_type": "code",
   "execution_count": 19,
   "metadata": {},
   "outputs": [],
   "source": [
    "#The predictors to include in a linear regression\n",
    "#comment out any predictors to be dropped\n",
    "preds_to_keep_intensity = [\n",
    " #'mslp',\n",
    " 'uas',\n",
    " 'vas',\n",
    " #'ps',\n",
    " 'Q_p500',\n",
    " #'Q_p700',\n",
    " #'Q_p850',\n",
    " 'RH_p500',\n",
    " #'RH_p700',\n",
    " #'RH_p850',\n",
    " 'U_p500',\n",
    " #'U_p700',\n",
    " #'U_p850',\n",
    " 'V_p500',\n",
    " #'V_p700',\n",
    " #'V_p850',\n",
    " #'Z_p500',\n",
    " #'Z_p700',\n",
    " #'Z_p850',\n",
    " #'Vort_p500',\n",
    " #'Vort_p700',\n",
    " #'Vort_p850',\n",
    " 'Div_p500',\n",
    " #'Div_p700',\n",
    " #'Div_p850',\n",
    " 'constant']\n",
    "\n",
    "#Will drop any variables commented out\n",
    "preds_to_drop_intensity = [x for x in all_preds if not x in preds_to_keep]\n",
    "\n",
    "#get just subset of predictors\n",
    "X = np.matrix([X_train[key].values for key in preds_to_keep_intensity]).transpose()\n",
    "x_train_nonzero_subset = X[Y_train.pr.values>0,]\n",
    "x_test_nonzero_subset = np.matrix([X_test[key].values for key in preds_to_keep_intensity]).transpose()[Y_test.pr.values>0,]\n",
    "\n",
    "#calculate coefficients for training data\n",
    "betas_handselect_linear_intensity = fit_linear_model(x_train_nonzero_subset, y_train_nonzero, \n",
    "                                        keys=preds_to_keep_intensity).rename(index = {0: 'coefficient'}).transpose()\n",
    "\n",
    "# uncommnent the line below to print out all the coefficients\n",
    "#betas_handselect_linear"
   ]
  },
  {
   "cell_type": "markdown",
   "metadata": {},
   "source": [
    "### 3. LASSO Regression\n",
    "\n",
    "(Using SciKit-Learn here)"
   ]
  },
  {
   "cell_type": "code",
   "execution_count": 20,
   "metadata": {},
   "outputs": [],
   "source": [
    "#LASSO regressor that uses BIC to optimize the alpha (L1 regulator)\n",
    "reg = sklearn.linear_model.LassoLarsIC(criterion = 'bic')\n",
    "reg.fit(x_train_nonzero, y_train_nonzero)\n",
    "\n",
    "lasso_preds_intensity = [all_preds[i] for i in range(len(reg.coef_)) if reg.coef_[i] != 0] + ['constant']\n",
    "betas_LASSO_intensity = pd.DataFrame(index = lasso_preds_intensity, \n",
    "                            data = [coef for coef in reg.coef_ if coef !=0] + [reg.intercept_], columns = ['coefficient'])\n",
    "\n",
    "x_test_nonzero_lasso = np.matrix([X_test[key].values for key in lasso_preds_intensity]).transpose()[Y_test.pr.values>0,]\n",
    "\n",
    "#uncomment below to print coefficients\n",
    "#betas_LASSO_intensity"
   ]
  },
  {
   "cell_type": "markdown",
   "metadata": {},
   "source": [
    "## Evaluating intensity regression\n",
    "\n",
    "RMSE can only decrease with fewer predictors and also that LASSO does not optimize for RMSE. So I've also included AIC as a measure of goodness-of-fit since AIC punishes models with too many predictors. \n",
    "\n",
    "AIC = Akaike Information Criterion = $2k - 2ln(\\hat{L})$, $k$=number of predictors, $n$=number of datapoints, $\\hat{L}$=solution to maximum likelihood function, here we use SSE (sum of squared error) since we assume the errors are normally distributed to get AIC = $2k + n(ln(\\frac{SSE}{n}))$. A lower AIC value suggests a better fit. (All of these models are terrible)."
   ]
  },
  {
   "cell_type": "code",
   "execution_count": 21,
   "metadata": {},
   "outputs": [
    {
     "data": {
      "text/html": [
       "<div>\n",
       "<style scoped>\n",
       "    .dataframe tbody tr th:only-of-type {\n",
       "        vertical-align: middle;\n",
       "    }\n",
       "\n",
       "    .dataframe tbody tr th {\n",
       "        vertical-align: top;\n",
       "    }\n",
       "\n",
       "    .dataframe thead th {\n",
       "        text-align: right;\n",
       "    }\n",
       "</style>\n",
       "<table border=\"1\" class=\"dataframe\">\n",
       "  <thead>\n",
       "    <tr style=\"text-align: right;\">\n",
       "      <th></th>\n",
       "      <th>n_predictors</th>\n",
       "      <th>RMSE</th>\n",
       "      <th>AIC</th>\n",
       "    </tr>\n",
       "  </thead>\n",
       "  <tbody>\n",
       "    <tr>\n",
       "      <th>all predictors</th>\n",
       "      <td>26</td>\n",
       "      <td>14.3912</td>\n",
       "      <td>7182.53</td>\n",
       "    </tr>\n",
       "    <tr>\n",
       "      <th>handpicked predictors</th>\n",
       "      <td>8</td>\n",
       "      <td>14.5039</td>\n",
       "      <td>7167.38</td>\n",
       "    </tr>\n",
       "    <tr>\n",
       "      <th>LASSO</th>\n",
       "      <td>4</td>\n",
       "      <td>14.4803</td>\n",
       "      <td>7155.05</td>\n",
       "    </tr>\n",
       "  </tbody>\n",
       "</table>\n",
       "</div>"
      ],
      "text/plain": [
       "                      n_predictors     RMSE      AIC\n",
       "all predictors                  26  14.3912  7182.53\n",
       "handpicked predictors            8  14.5039  7167.38\n",
       "LASSO                            4  14.4803  7155.05"
      ]
     },
     "execution_count": 21,
     "metadata": {},
     "output_type": "execute_result"
    }
   ],
   "source": [
    "models = ['all predictors', 'handpicked predictors', 'LASSO'] #names of each probability model\n",
    "inputData = ['x_test_nonzero', 'x_test_nonzero_subset', 'x_test_nonzero_lasso'] #the input data for each model\n",
    "#the names of the dataframes where the coefficents are stored\n",
    "betas = ['betas_all_linear_intensity', 'betas_handselect_linear_intensity', 'betas_LASSO_intensity'] \n",
    "\n",
    "#creating a dataframe to save the model metrics\n",
    "probability_model_metrics = pd.DataFrame(index = models, columns = ['n_predictors','RMSE', 'AIC'])\n",
    "\n",
    "def AIC(preds, obs, k):\n",
    "    \"\"\"Input: numpy matrix of predictions, \n",
    "              numpy matrix of true values (for both, each row is a day)\n",
    "              k (integer), the number of predictors\n",
    "       Output: Akaike's Information Criterion, as a float\"\"\"\n",
    "    n = preds.shape[0] #length of time series (number of points)\n",
    "    SSE = np.square(preds - obs.reshape(obs.shape[0],1)).sum() #Sum of squared errors\n",
    "    return (2*k) + (n * np.log(SSE/n)) \n",
    "\n",
    "for model,inputData,betaList,i in zip(models, inputData, betas, range(len(betas))):\n",
    "    #evaluating the various goodness-of-fit metrics for each model\n",
    "    preds = np.matmul(eval(inputData), eval(betaList)) #predict values for comparison to obs \n",
    "    k = eval(betaList).shape[0] #number of predictors\n",
    "    probability_model_metrics['n_predictors'][i] = k\n",
    "    probability_model_metrics['RMSE'][i] = RMSE(preds, y_test_nonzero)\n",
    "    probability_model_metrics['AIC'][i] = AIC(preds, y_test_nonzero, k)\n",
    "\n",
    "#Print the table out\n",
    "probability_model_metrics"
   ]
  },
  {
   "cell_type": "markdown",
   "metadata": {},
   "source": [
    "# Combining classifier and intensity regressions\n",
    "\n",
    "I've chosen to do logistic classifier regression and LASSO regression for intensity."
   ]
  },
  {
   "cell_type": "code",
   "execution_count": 22,
   "metadata": {},
   "outputs": [],
   "source": [
    "#predict yes/no precip\n",
    "classifier = glm.predict_proba(X_test_matrix)[:,1] > thresh\n",
    "#get intensity values\n",
    "intensity = pd.DataFrame(np.matmul(np.matrix([X_test[key].values for key in lasso_preds_intensity]).transpose(),\n",
    "                                   betas_LASSO_intensity))[0].values\n",
    "\n",
    "#using the threshold to combine regression models\n",
    "final_preds =np.multiply(intensity,classifier) #elementwise mulitiplication by either 0 or 1 for yes/no precip"
   ]
  },
  {
   "cell_type": "markdown",
   "metadata": {},
   "source": [
    "# Adding a stochastic element from a distribution\n",
    "\n",
    "(This might be similar to the 'variance factor' in the paper)\n",
    "\n",
    "This will necessarily increase the RMSE/AIC/BIC, but it might help the distributions."
   ]
  },
  {
   "cell_type": "markdown",
   "metadata": {},
   "source": [
    "## The raw distributions\n",
    "(They look super different...)"
   ]
  },
  {
   "cell_type": "code",
   "execution_count": 23,
   "metadata": {},
   "outputs": [
    {
     "data": {
      "image/png": "[encoded data removed]",
      "text/plain": [
       "<Figure size 432x288 with 1 Axes>"
      ]
     },
     "metadata": {
      "needs_background": "light"
     },
     "output_type": "display_data"
    },
    {
     "data": {
      "image/png": "[encoded data removed]",
      "text/plain": [
       "<Figure size 432x288 with 1 Axes>"
      ]
     },
     "metadata": {
      "needs_background": "light"
     },
     "output_type": "display_data"
    }
   ],
   "source": [
    "def plotDists(final_preds):\n",
    "    \"\"\"Plotting the true and modeled distributions on a log scale\"\"\"\n",
    "    for data, title in zip([Y_test.pr, final_preds], ['Observed', 'Modeled']):\n",
    "        prednon0=data[data > 0.00] #filtering to get only non-zero precip values\n",
    "        length = prednon0.shape[0] #number of pts\n",
    "        pmean = round(float(prednon0.mean()),3) #mean\n",
    "        pstd = round(float(prednon0.std()),3) #standard deviation\n",
    "        amean = round(float(data.mean()),3) #mean including no precip days\n",
    "\n",
    "        #getting it on a log scale\n",
    "        ax = plt.subplot()\n",
    "        ax.set_xscale(\"log\", nonposx='clip')\n",
    "        logbins = np.geomspace(0.01,150, 100) #args are x-min, x-max, number of bins\n",
    "\n",
    "        #plot details\n",
    "        plt.hist(prednon0,bins=logbins, weights=np.ones(length) / length) #plot percentages\n",
    "        plt.title(title + ' Non-Zero Precipitation Distribution',fontsize=18) #title\n",
    "        plt.xlim(xmin=0.01, xmax = 150)\n",
    "        plt.ylim(ymin=0, ymax = 0.40)\n",
    "\n",
    "        #add % to axis labels\n",
    "        vals = ax.get_yticks()\n",
    "        ax.set_yticklabels(['{:,.2%}'.format(x) for x in vals])\n",
    "        ax.yaxis.tick_right()\n",
    "\n",
    "        #show mean and std\n",
    "        plt.text(0.1,0.2, \"Mean: \" + str(pmean) + \"\\nStd: \" + str(pstd) + '\\nMean incl. zeros: ' + str(amean))\n",
    "        plt.show()\n",
    "        \n",
    "plotDists(final_preds)"
   ]
  },
  {
   "cell_type": "markdown",
   "metadata": {},
   "source": [
    "## Adding a normal distribution element"
   ]
  },
  {
   "cell_type": "code",
   "execution_count": 55,
   "metadata": {},
   "outputs": [
    {
     "data": {
      "image/png": "[encoded data removed]",
      "text/plain": [
       "<Figure size 432x288 with 1 Axes>"
      ]
     },
     "metadata": {
      "needs_background": "light"
     },
     "output_type": "display_data"
    },
    {
     "data": {
      "image/png": "[encoded data removed]",
      "text/plain": [
       "<Figure size 432x288 with 1 Axes>"
      ]
     },
     "metadata": {
      "needs_background": "light"
     },
     "output_type": "display_data"
    }
   ],
   "source": [
    "mu, sigma = 0, 1 #mean and standard deviation\n",
    "data = np.random.normal(mu, sigma, 100000) #gettign 100,000 random points from this distribution\n",
    "\n",
    "def makePlots(data):\n",
    "    \"\"\"Plotting a distibution on a normal scale and on a log scale.\"\"\"\n",
    "    \n",
    "    #plotting a normal distribution\n",
    "    plt.hist(data, bins = 50)\n",
    "    plt.title('Distribution')\n",
    "    plt.show()\n",
    "\n",
    "    #plotting the same distribution on a log scale\n",
    "    ax = plt.subplot()\n",
    "    ax.set_xscale(\"log\", nonposx='clip')\n",
    "    logbins = np.geomspace(0.01,150, 50)\n",
    "    plt.hist(data, bins=logbins)\n",
    "    plt.title('Distribution on a log scale')\n",
    "    plt.show()\n",
    "    \n",
    "makePlots(data)"
   ]
  },
  {
   "cell_type": "markdown",
   "metadata": {},
   "source": [
    "## Gamma Distributions "
   ]
  },
  {
   "cell_type": "code",
   "execution_count": 110,
   "metadata": {},
   "outputs": [
    {
     "data": {
      "image/png": "[encoded data removed]",
      "text/plain": [
       "<Figure size 432x288 with 1 Axes>"
      ]
     },
     "metadata": {
      "needs_background": "light"
     },
     "output_type": "display_data"
    },
    {
     "data": {
      "image/png": "[encoded data removed]",
      "text/plain": [
       "<Figure size 432x288 with 1 Axes>"
      ]
     },
     "metadata": {
      "needs_background": "light"
     },
     "output_type": "display_data"
    }
   ],
   "source": [
    "k = 3 #shape\n",
    "theta = 3 #scale\n",
    "\n",
    "makePlots(np.random.gamma(k,theta,100000))"
   ]
  },
  {
   "cell_type": "markdown",
   "metadata": {},
   "source": [
    "## Adding a stochastic element to the predictions\n",
    "\n",
    "You can change the distributions to see what works the best"
   ]
  },
  {
   "cell_type": "code",
   "execution_count": 24,
   "metadata": {},
   "outputs": [
    {
     "data": {
      "image/png": "[encoded data removed]",
      "text/plain": [
       "<Figure size 432x288 with 1 Axes>"
      ]
     },
     "metadata": {
      "needs_background": "light"
     },
     "output_type": "display_data"
    },
    {
     "data": {
      "image/png": "[encoded data removed]",
      "text/plain": [
       "<Figure size 432x288 with 1 Axes>"
      ]
     },
     "metadata": {
      "needs_background": "light"
     },
     "output_type": "display_data"
    }
   ],
   "source": [
    "#Normal \n",
    "mu, sigma =-5, 15\n",
    "\n",
    "#Gamma\n",
    "k, theta = 2,5\n",
    "\n",
    "np.random.seed(42)\n",
    "\n",
    "#toggle these two lines to do a normal or gamma distribution\n",
    "stochast = np.random.normal(mu, sigma, final_preds.shape[0])\n",
    "#stochast = np.random.gamma(k,theta,final_preds.shape[0])\n",
    "\n",
    "corrected_preds = final_preds + stochast\n",
    "\n",
    "plotDists(corrected_preds)"
   ]
  },
  {
   "cell_type": "markdown",
   "metadata": {},
   "source": [
    "### Write the final predictions to disk"
   ]
  },
  {
   "cell_type": "code",
   "execution_count": 29,
   "metadata": {},
   "outputs": [],
   "source": [
    "#save location\n",
    "location = '/glade/work/kwheelan/datasets'\n",
    "\n",
    "#just saving as a txt file right now, but I could convert to xarray if needed\n",
    "#saves just the predicted precip values in order of data\n",
    "np.savetxt(os.path.join(location, 'oddYrPreds_' + str(lat) + '.' + str(lon) + '.txt'), corrected_preds, delimiter = ',')"
   ]
  }
 ],
 "metadata": {
  "kernelspec": {
   "display_name": "Python 3",
   "language": "python",
   "name": "python3"
  },
  "language_info": {
   "codemirror_mode": {
    "name": "ipython",
    "version": 3
   },
   "file_extension": ".py",
   "mimetype": "text/x-python",
   "name": "python",
   "nbconvert_exporter": "python",
   "pygments_lexer": "ipython3",
   "version": "3.6.8"
  }
 },
 "nbformat": 4,
 "nbformat_minor": 4
}
